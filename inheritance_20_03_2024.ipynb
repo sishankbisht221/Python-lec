{
  "nbformat": 4,
  "nbformat_minor": 0,
  "metadata": {
    "colab": {
      "provenance": [],
      "authorship_tag": "ABX9TyOYY7CXYl54DzpxEPeAosnz",
      "include_colab_link": true
    },
    "kernelspec": {
      "name": "python3",
      "display_name": "Python 3"
    },
    "language_info": {
      "name": "python"
    }
  },
  "cells": [
    {
      "cell_type": "markdown",
      "metadata": {
        "id": "view-in-github",
        "colab_type": "text"
      },
      "source": [
        "<a href=\"https://colab.research.google.com/github/sishankbisht221/Python-lec/blob/main/inheritance_20_03_2024.ipynb\" target=\"_parent\"><img src=\"https://colab.research.google.com/assets/colab-badge.svg\" alt=\"Open In Colab\"/></a>"
      ]
    },
    {
      "cell_type": "code",
      "execution_count": null,
      "metadata": {
        "id": "HB1uF5nJCPke"
      },
      "outputs": [],
      "source": [
        "#Wap to create a rectangle class that prints that consists of two methods or func\n",
        "\n",
        "class Rectangle:\n",
        "  def init(self,Length,Breadth):\n",
        "    self.L=Length\n",
        "    self.B=Breadth\n",
        "    self.V=self.inner()\n",
        "  def area(self):\n",
        "   print(self.L*self.B)\n",
        "  class inner():\n",
        "    def Perimeter(self):\n",
        "      print(2*(self.L+self.B))\n",
        "\n",
        "R1= Rectangle(4,5)\n",
        "R1.area()\n",
        "#R1.V.Perimeter()"
      ]
    },
    {
      "cell_type": "code",
      "source": [
        "#write a class which takes the number n and generates divisble of 11.\n",
        "class A:\n",
        "  def __init__(self,n,k):\n",
        "     self.n=n\n",
        "     self.j=k\n",
        "  def divi(self):\n",
        "    for i in range(1,self.j):\n",
        "     c=self.n*i\n",
        "     print(c)\n",
        "a1=A(11,10)\n",
        "a1.divi()"
      ],
      "metadata": {
        "id": "fyTK5SjMCbhE"
      },
      "execution_count": null,
      "outputs": []
    },
    {
      "cell_type": "code",
      "source": [
        "class A:\n",
        "  def __init__(self):\n",
        "     print( \"i am inside odf a\")\n",
        "  def show(self):\n",
        "     print(\"show of a\")\n",
        "A()"
      ],
      "metadata": {
        "id": "JXinKQiFCgAb"
      },
      "execution_count": null,
      "outputs": []
    }
  ]
}